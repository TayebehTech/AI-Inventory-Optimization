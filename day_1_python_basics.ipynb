{
 "cells": [
  {
   "cell_type": "code",
   "execution_count": 1,
   "metadata": {},
   "outputs": [],
   "source": [
    "import pandas as pd"
   ]
  },
  {
   "cell_type": "code",
   "execution_count": 2,
   "metadata": {},
   "outputs": [],
   "source": [
    "# Sample inventory dataset\n",
    "data = {\n",
    "    \"SKU\": [\"A1\", \"A2\", \"A3\"],\n",
    "    \"Stock\": [100, 50, 200],\n",
    "    \"Sales\": [20, 15, 50]\n",
    "}"
   ]
  },
  {
   "cell_type": "code",
   "execution_count": 3,
   "metadata": {},
   "outputs": [],
   "source": [
    "df = pd.DataFrame(data)"
   ]
  },
  {
   "cell_type": "code",
   "execution_count": 4,
   "metadata": {},
   "outputs": [
    {
     "name": "stdout",
     "output_type": "stream",
     "text": [
      "  SKU  Stock  Sales  Remaining Stock\n",
      "0  A1    100     20               80\n",
      "1  A2     50     15               35\n",
      "2  A3    200     50              150\n"
     ]
    }
   ],
   "source": [
    "# Calculate remaining stock\n",
    "df[\"Remaining Stock\"] = df[\"Stock\"] - df[\"Sales\"]\n",
    "\n",
    "print(df)"
   ]
  }
 ],
 "metadata": {
  "kernelspec": {
   "display_name": "PYT",
   "language": "python",
   "name": "python3"
  },
  "language_info": {
   "codemirror_mode": {
    "name": "ipython",
    "version": 3
   },
   "file_extension": ".py",
   "mimetype": "text/x-python",
   "name": "python",
   "nbconvert_exporter": "python",
   "pygments_lexer": "ipython3",
   "version": "3.13.1"
  }
 },
 "nbformat": 4,
 "nbformat_minor": 2
}
